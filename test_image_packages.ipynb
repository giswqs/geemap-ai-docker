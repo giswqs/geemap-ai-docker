{
 "cells": [
  {
   "cell_type": "markdown",
   "metadata": {},
   "source": [
    "# Overview\n",
    "\n",
    "The purpose of this notebook is to run simple tests on the libraries provided by the Docker image [AI Deep Learning Platform + Earth Engine](https://github.com/gee-community/ee-jupyter-contrib/tree/master/docker/gcp_ai_deep_learning_platform)."
   ]
  },
  {
   "cell_type": "markdown",
   "metadata": {},
   "source": [
    "# Earth Engine Packages\n",
    "\n",
    "## Earth Engine Python API\n",
    "\n",
    "\"The Earth Engine Python API is a client library that facilitates interacting with the Earth Engine servers using the Python programming language.\" \n",
    "\n",
    "* Homepage: https://earthengine.google.com/\n",
    "* Docs: https://developers.google.com/earth-engine/\n",
    "* Source code: https://github.com/google/earthengine-api"
   ]
  },
  {
   "cell_type": "code",
   "execution_count": null,
   "metadata": {},
   "outputs": [],
   "source": [
    "import ee\n",
    "print(ee.__version__)"
   ]
  },
  {
   "cell_type": "code",
   "execution_count": null,
   "metadata": {},
   "outputs": [],
   "source": [
    "ee.Authenticate()"
   ]
  },
  {
   "cell_type": "code",
   "execution_count": null,
   "metadata": {},
   "outputs": [],
   "source": [
    "ee.Initialize()"
   ]
  },
  {
   "cell_type": "markdown",
   "metadata": {},
   "source": [
    "# Jupyter Project packages"
   ]
  },
  {
   "cell_type": "markdown",
   "metadata": {},
   "source": [
    "## Jupyter Notebook\n",
    "\n",
    "The core library for Jupyter Interactive Notebooks.\n",
    "\n",
    "* Docs: https://jupyter-notebook.readthedocs.io/\n",
    "* Source code: https://github.com/jupyter/notebook"
   ]
  },
  {
   "cell_type": "code",
   "execution_count": null,
   "metadata": {},
   "outputs": [],
   "source": [
    "import notebook\n",
    "print(notebook.__version__)"
   ]
  },
  {
   "cell_type": "markdown",
   "metadata": {},
   "source": [
    "## JupyterLab\n",
    "\n",
    "\"JupyterLab computational environment.\"\n",
    "\n",
    "* Docs: http://jupyterlab.readthedocs.io\n",
    "* Source code: https://github.com/jupyterlab/jupyterlab"
   ]
  },
  {
   "cell_type": "code",
   "execution_count": null,
   "metadata": {},
   "outputs": [],
   "source": [
    "import jupyterlab\n",
    "print(jupyterlab.__version__)"
   ]
  },
  {
   "cell_type": "markdown",
   "metadata": {},
   "source": [
    "## Jupyter Notebook Widgets\n",
    "\n",
    "\"Widgets are eventful python objects that have a representation in the browser, often as a control like a slider, textbox, etc.\"\n",
    "\n",
    "* Homepage: http://jupyter.org/widgets\n",
    "* Docs: https://ipywidgets.readthedocs.io\n",
    "* Source code: https://github.com/jupyter-widgets/ipywidgets\n"
   ]
  },
  {
   "cell_type": "code",
   "execution_count": null,
   "metadata": {},
   "outputs": [],
   "source": [
    "import ipywidgets\n",
    "print(ipywidgets.__version__)"
   ]
  },
  {
   "cell_type": "code",
   "execution_count": null,
   "metadata": {},
   "outputs": [],
   "source": [
    "my_slider= ipywidgets.widgets.IntSlider()\n",
    "display(my_slider)"
   ]
  },
  {
   "cell_type": "code",
   "execution_count": null,
   "metadata": {},
   "outputs": [],
   "source": [
    "my_slider.value"
   ]
  },
  {
   "cell_type": "markdown",
   "metadata": {},
   "source": [
    "### ipyleaflet\n",
    "\n",
    "ipyleaflet is a Jupyter Widget for interactive mapping, based on the [Leaflet](https://leafletjs.com/) Javascript library.\n",
    "\n",
    "* Source code: https://github.com/jupyter-widgets/ipyleaflet"
   ]
  },
  {
   "cell_type": "code",
   "execution_count": null,
   "metadata": {},
   "outputs": [],
   "source": [
    "import ipyleaflet\n",
    "print(ipyleaflet.__version__)"
   ]
  },
  {
   "cell_type": "code",
   "execution_count": null,
   "metadata": {},
   "outputs": [],
   "source": [
    "my_map = ipyleaflet.Map(center=(53.35, -6.2), zoom=11)\n",
    "my_map"
   ]
  },
  {
   "cell_type": "markdown",
   "metadata": {},
   "source": [
    "### bqplot\n",
    "\n",
    "\"bqplot is a Grammar of Graphics-based interactive plotting framework for the Jupyter notebook.\" \n",
    "\n",
    "* Docs: https://bqplot.readthedocs.io/en/stable/\n",
    "* Source code: https://github.com/bloomberg/bqplot"
   ]
  },
  {
   "cell_type": "code",
   "execution_count": null,
   "metadata": {},
   "outputs": [],
   "source": [
    "import bqplot\n",
    "print(bqplot.__version__)"
   ]
  },
  {
   "cell_type": "code",
   "execution_count": null,
   "metadata": {},
   "outputs": [],
   "source": [
    "import numpy as np\n",
    "size = 100\n",
    "x_data = range(size)\n",
    "np.random.seed(0)\n",
    "y_data = np.cumsum(np.random.randn(size) * 100.0)\n",
    "y_data_2 = np.cumsum(np.random.randn(size))\n",
    "y_data_3 = np.cumsum(np.random.randn(size) * 100.)\n",
    "\n",
    "sc_ord = bqplot.OrdinalScale()\n",
    "sc_y = bqplot.LinearScale()\n",
    "sc_y_2 = bqplot.LinearScale()\n",
    "\n",
    "ord_ax = bqplot.Axis(label='Test X', scale=sc_ord, tick_format='0.0f', grid_lines='none')\n",
    "y_ax = bqplot.Axis(label='Test Y', scale=sc_y, \n",
    "            orientation='vertical', tick_format='0.2f', \n",
    "            grid_lines='solid')\n",
    "y_ax_2 = bqplot.Axis(label='Test Y 2', scale=sc_y_2, \n",
    "              orientation='vertical', side='right', \n",
    "              tick_format='0.0f', grid_lines='solid')\n",
    "\n",
    "line_chart  = bqplot.Lines(x=x_data[:10], y = [y_data[:10], y_data_2[:10] * 100, y_data_3[:10]],\n",
    "                   scales={'x': sc_ord, 'y': sc_y},\n",
    "                   labels=['Line1', 'Line2', 'Line3'], \n",
    "                   display_legend=True)\n",
    "\n",
    "bar_chart = bqplot.Bars(x=x_data[:10], \n",
    "                 y=[y_data[:10], y_data_2[:10] * 100, y_data_3[:10]], \n",
    "                 scales={'x': sc_ord, 'y': sc_y_2},\n",
    "                 labels=['Bar1', 'Bar2', 'Bar3'],\n",
    "                 display_legend=True)\n",
    "\n",
    "# the line does not have a Y value set. So only the bars will be displayed\n",
    "bqplot.Figure(axes=[ord_ax, y_ax],  marks=[bar_chart, line_chart], legend_location = 'bottom-left')"
   ]
  },
  {
   "cell_type": "markdown",
   "metadata": {},
   "source": [
    "## nbdime\n",
    "\n",
    "\"Jupyter Notebook Diff & Merge tools\"\n",
    "\n",
    "* docs: https://nbdime.readthedocs.io\n",
    "* source: https://github.com/jupyter/nbdime"
   ]
  },
  {
   "cell_type": "code",
   "execution_count": null,
   "metadata": {},
   "outputs": [],
   "source": [
    "import nbdime\n",
    "print(nbdime.__version__)"
   ]
  },
  {
   "cell_type": "markdown",
   "metadata": {},
   "source": [
    "# geemap"
   ]
  },
  {
   "cell_type": "code",
   "execution_count": null,
   "metadata": {},
   "outputs": [],
   "source": [
    "import geemap\n",
    "print(geemap.__version__)"
   ]
  },
  {
   "cell_type": "code",
   "execution_count": null,
   "metadata": {},
   "outputs": [],
   "source": [
    "Map = geemap.Map(center=[40,-100], zoom=4)\n",
    "Map"
   ]
  },
  {
   "cell_type": "markdown",
   "metadata": {},
   "source": [
    "# Visualization packages"
   ]
  },
  {
   "cell_type": "markdown",
   "metadata": {},
   "source": [
    "## Palettable\n",
    "\n",
    "\"Palettable is a library of color palettes for Python.\" \n",
    "\n",
    "* Docs: https://jiffyclub.github.io/palettable/\n",
    "* Source code: https://github.com/jiffyclub/palettable"
   ]
  },
  {
   "cell_type": "code",
   "execution_count": null,
   "metadata": {},
   "outputs": [],
   "source": [
    "import palettable\n",
    "print(palettable.__version__)"
   ]
  },
  {
   "cell_type": "code",
   "execution_count": null,
   "metadata": {},
   "outputs": [],
   "source": [
    "import matplotlib.pyplot as plt\n",
    "import numpy as np\n",
    "from matplotlib.colors import LogNorm\n",
    "from palettable.colorbrewer.sequential import YlGnBu_9\n",
    "\n",
    "#normal distribution center at x=0 and y=5\n",
    "x = np.random.randn(100000)\n",
    "y = np.random.randn(100000)+5\n",
    "\n",
    "plt.hist2d(x, y, bins=40, norm=LogNorm(), cmap=YlGnBu_9.mpl_colormap)\n",
    "plt.colorbar()"
   ]
  },
  {
   "cell_type": "markdown",
   "metadata": {},
   "source": [
    "## Altair\n",
    "\n",
    "\"Altair is a declarative statistical visualization library for Python.\" \n",
    "\n",
    "* Docs: https://altair-viz.github.io/\n",
    "* Source code: https://github.com/altair-viz/altair\n",
    "* Tutorials: https://github.com/altair-viz/altair_notebooks"
   ]
  },
  {
   "cell_type": "code",
   "execution_count": null,
   "metadata": {},
   "outputs": [],
   "source": [
    "import altair as alt\n",
    "print(alt.__version__)"
   ]
  },
  {
   "cell_type": "code",
   "execution_count": null,
   "metadata": {},
   "outputs": [],
   "source": [
    "# load a simple dataset as a pandas DataFrame\n",
    "from vega_datasets import data\n",
    "cars = data.cars()\n",
    "\n",
    "alt.Chart(cars).mark_point().encode(\n",
    "    x='Horsepower',\n",
    "    y='Miles_per_Gallon',\n",
    "    color='Origin',\n",
    ")"
   ]
  },
  {
   "cell_type": "markdown",
   "metadata": {},
   "source": [
    "## PILLOW\n",
    "\n",
    "\"Pillow is the friendly PIL fork by Alex Clark and Contributors. PIL is the Python Imaging Library by Fredrik Lundh and Contributors.\"\n",
    "\n",
    "* Docs: http://pillow.readthedocs.io"
   ]
  },
  {
   "cell_type": "code",
   "execution_count": null,
   "metadata": {},
   "outputs": [],
   "source": [
    "import PIL\n",
    "print(PIL.__version__)"
   ]
  },
  {
   "cell_type": "markdown",
   "metadata": {},
   "source": [
    "## imageio\n",
    "\n",
    "\"Imageio is a Python library that provides an easy interface to read and write a wide range of image data, including animated images, video, volumetric data, and scientific formats.\"\n",
    "\n",
    "* Home: https://imageio.github.io/\n",
    "* Docs: http://imageio.readthedocs.io/\n",
    "* Source Code: https://github.com/imageio/imageio"
   ]
  },
  {
   "cell_type": "code",
   "execution_count": null,
   "metadata": {},
   "outputs": [],
   "source": [
    "import imageio\n",
    "print(imageio.__version__)"
   ]
  },
  {
   "cell_type": "markdown",
   "metadata": {},
   "source": [
    "# Machine Learning\n",
    "\n",
    "## Tensorflow\n",
    "\n",
    "\"Computation using data flow graphs for scalable machine learning\"\n",
    "\n",
    "Homepage: https://www.tensorflow.org/\n",
    "Docs: https://www.tensorflow.org/api_docs/python/\n",
    "Source code: https://github.com/tensorflow/tensorflow\n",
    "Tutorials: https://www.tensorflow.org/tutorials/"
   ]
  },
  {
   "cell_type": "code",
   "execution_count": null,
   "metadata": {},
   "outputs": [],
   "source": [
    "import tensorflow as tf\n",
    "print(tf.__version__)"
   ]
  },
  {
   "cell_type": "code",
   "execution_count": null,
   "metadata": {},
   "outputs": [],
   "source": [
    "# TF example copied from https://colab.sandbox.google.com/github/tensorflow/docs/blob/master/site/en/tutorials/quickstart/beginner.ipynb\n",
    "\n",
    "mnist = tf.keras.datasets.mnist\n",
    "\n",
    "(x_train, y_train), (x_test, y_test) = mnist.load_data()\n",
    "x_train, x_test = x_train / 255.0, x_test / 255.0\n",
    "\n",
    "model = tf.keras.models.Sequential([\n",
    "  tf.keras.layers.Flatten(input_shape=(28, 28)),\n",
    "  tf.keras.layers.Dense(128, activation='relu'),\n",
    "  tf.keras.layers.Dropout(0.2),\n",
    "  tf.keras.layers.Dense(10)\n",
    "])\n",
    "\n",
    "predictions = model(x_train[:1]).numpy()\n",
    "predictions"
   ]
  },
  {
   "cell_type": "code",
   "execution_count": null,
   "metadata": {},
   "outputs": [],
   "source": [
    "tf.nn.softmax(predictions).numpy()"
   ]
  },
  {
   "cell_type": "code",
   "execution_count": null,
   "metadata": {},
   "outputs": [],
   "source": [
    "loss_fn = tf.keras.losses.SparseCategoricalCrossentropy(from_logits=True)"
   ]
  },
  {
   "cell_type": "code",
   "execution_count": null,
   "metadata": {},
   "outputs": [],
   "source": [
    "loss_fn(y_train[:1], predictions).numpy()"
   ]
  },
  {
   "cell_type": "code",
   "execution_count": null,
   "metadata": {},
   "outputs": [],
   "source": [
    "model.compile(optimizer='adam',\n",
    "              loss=loss_fn,\n",
    "              metrics=['accuracy'])"
   ]
  },
  {
   "cell_type": "code",
   "execution_count": null,
   "metadata": {},
   "outputs": [],
   "source": [
    "model.fit(x_train, y_train, epochs=5)"
   ]
  },
  {
   "cell_type": "code",
   "execution_count": null,
   "metadata": {},
   "outputs": [],
   "source": [
    "model.evaluate(x_test,  y_test, verbose=2)"
   ]
  },
  {
   "cell_type": "code",
   "execution_count": null,
   "metadata": {},
   "outputs": [],
   "source": [
    "probability_model = tf.keras.Sequential([\n",
    "  model,\n",
    "  tf.keras.layers.Softmax()\n",
    "])"
   ]
  },
  {
   "cell_type": "code",
   "execution_count": null,
   "metadata": {},
   "outputs": [],
   "source": [
    "probability_model(x_test[:5])"
   ]
  },
  {
   "cell_type": "code",
   "execution_count": null,
   "metadata": {},
   "outputs": [],
   "source": []
  }
 ],
 "metadata": {
  "kernelspec": {
   "display_name": "Python 3",
   "language": "python",
   "name": "python3"
  },
  "language_info": {
   "codemirror_mode": {
    "name": "ipython",
    "version": 3
   },
   "file_extension": ".py",
   "mimetype": "text/x-python",
   "name": "python",
   "nbconvert_exporter": "python",
   "pygments_lexer": "ipython3",
   "version": "3.7.8"
  }
 },
 "nbformat": 4,
 "nbformat_minor": 4
}
